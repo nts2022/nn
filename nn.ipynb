{
 "cells": [
  {
   "cell_type": "code",
   "execution_count": 1,
   "id": "547dc462-7712-4a18-a38c-1d8d2a251229",
   "metadata": {},
   "outputs": [],
   "source": [
    "import numpy as np\n",
    "import pandas as pd\n",
    "import matplotlib.pyplot as plt\n",
    "from sklearn.preprocessing import OneHotEncoder\n",
    "from sklearn.model_selection import train_test_split\n",
    "from sklearn.metrics import accuracy_score, precision_score, recall_score, f1_score"
   ]
  },
  {
   "cell_type": "markdown",
   "id": "b683675c-ba95-4f4e-9cc7-14b9eac796ad",
   "metadata": {},
   "source": [
    "### データの用意"
   ]
  },
  {
   "cell_type": "code",
   "execution_count": 3,
   "id": "a3320b52-eae5-4810-a932-d0b3b50b95d8",
   "metadata": {},
   "outputs": [],
   "source": [
    "from tensorflow.keras.datasets import mnist\n",
    "(X_train, y_train), (X_valid, y_valid) = mnist.load_data()"
   ]
  },
  {
   "cell_type": "code",
   "execution_count": 4,
   "id": "02fd1e16-8a97-4400-9bf1-3f0b67135cef",
   "metadata": {},
   "outputs": [
    {
     "data": {
      "text/plain": [
       "(60000, 28, 28)"
      ]
     },
     "execution_count": 4,
     "metadata": {},
     "output_type": "execute_result"
    }
   ],
   "source": [
    "X_train.shape"
   ]
  },
  {
   "cell_type": "code",
   "execution_count": 5,
   "id": "6093dd67-e86b-4ff1-9188-0f10f6c124d9",
   "metadata": {},
   "outputs": [
    {
     "data": {
      "text/plain": [
       "dtype('uint8')"
      ]
     },
     "execution_count": 5,
     "metadata": {},
     "output_type": "execute_result"
    }
   ],
   "source": [
    "X_train.dtype"
   ]
  },
  {
   "cell_type": "code",
   "execution_count": 6,
   "id": "5749e637-a8ab-475e-92ea-75c8d57941e9",
   "metadata": {},
   "outputs": [],
   "source": [
    "# 平坦化\n",
    "X_train = X_train.reshape(-1, 784)\n",
    "X_valid = X_valid.reshape(-1, 784)"
   ]
  },
  {
   "cell_type": "code",
   "execution_count": 7,
   "id": "918bc418-d58a-4d7a-abed-9f0d74b98279",
   "metadata": {},
   "outputs": [],
   "source": [
    "# 0-1化\n",
    "X_train = X_train.astype(float) / 255\n",
    "X_valid = X_valid.astype(float) / 255"
   ]
  },
  {
   "cell_type": "code",
   "execution_count": 8,
   "id": "c95f36bf-ab15-467d-9230-18b39bb7164d",
   "metadata": {},
   "outputs": [
    {
     "name": "stdout",
     "output_type": "stream",
     "text": [
      "(48000, 784)\n",
      "(48000,)\n",
      "(12000, 784)\n",
      "(12000,)\n"
     ]
    }
   ],
   "source": [
    "# 分割\n",
    "X_train, X_valid, y_train, y_valid = train_test_split(X_train, y_train, test_size=0.2)\n",
    "print(X_train.shape)\n",
    "print(y_train.shape)\n",
    "print(X_valid.shape)\n",
    "print(y_valid.shape)"
   ]
  },
  {
   "cell_type": "code",
   "execution_count": 9,
   "id": "3e532814-b09e-44a9-91d0-77a15ad0a7b8",
   "metadata": {},
   "outputs": [
    {
     "name": "stdout",
     "output_type": "stream",
     "text": [
      "(48000, 784)\n",
      "(48000, 10)\n",
      "(12000, 784)\n",
      "(12000, 10)\n"
     ]
    }
   ],
   "source": [
    "# one-hot化\n",
    "enc = OneHotEncoder(handle_unknown='ignore', sparse=False)\n",
    "y_train_one_hot = enc.fit_transform(y_train[:, np.newaxis])\n",
    "y_valid_one_hot = enc.transform(y_valid[:, np.newaxis])\n",
    "print(X_train.shape)\n",
    "print(y_train_one_hot.shape)\n",
    "print(X_valid.shape)\n",
    "print(y_valid_one_hot.shape)"
   ]
  },
  {
   "cell_type": "markdown",
   "id": "8fb867c4-c7eb-44a8-aa9f-3af078d2ba06",
   "metadata": {},
   "source": [
    "### ミニバッチイテレータ"
   ]
  },
  {
   "cell_type": "code",
   "execution_count": 10,
   "id": "a8ea2925-262f-4b2f-b98c-02b93c8622bb",
   "metadata": {},
   "outputs": [],
   "source": [
    "class GetMiniBatch:\n",
    "    \"\"\"\n",
    "    ミニバッチを取得するイテレータ\n",
    "\n",
    "    Parameters\n",
    "    ----------\n",
    "    X : 次の形のndarray, shape (n_samples, n_features)\n",
    "      訓練データ\n",
    "    y : 次の形のndarray, shape (n_samples, 1)\n",
    "      正解値\n",
    "    batch_size : int\n",
    "      バッチサイズ\n",
    "    seed : int\n",
    "      NumPyの乱数のシード\n",
    "    \"\"\"\n",
    "    def __init__(self, X, y, batch_size=20, seed=0):\n",
    "        self.batch_size = batch_size\n",
    "        np.random.seed(seed)\n",
    "        shuffle_index = np.random.permutation(np.arange(X.shape[0]))\n",
    "        self._X = X[shuffle_index]\n",
    "        self._y = y[shuffle_index]\n",
    "        self._stop = np.ceil(X.shape[0] / self.batch_size).astype(int)\n",
    "\n",
    "    def __len__(self):\n",
    "        return self._stop\n",
    "\n",
    "    def __getitem__(self, item):\n",
    "        p0 = item * self.batch_size\n",
    "        p1 = item * self.batch_size + self.batch_size\n",
    "        return self._X[p0:p1], self._y[p0:p1]        \n",
    "\n",
    "    def __iter__(self):\n",
    "        self._counter = 0\n",
    "        return self\n",
    "\n",
    "    def __next__(self):\n",
    "        if self._counter >= self._stop:\n",
    "            raise StopIteration()\n",
    "        p0 = self._counter * self.batch_size\n",
    "        p1 = self._counter * self.batch_size + self.batch_size\n",
    "        self._counter += 1\n",
    "        return self._X[p0:p1], self._y[p0:p1]"
   ]
  },
  {
   "cell_type": "markdown",
   "id": "bec5c971-03dd-4b44-9656-f33774a89d4e",
   "metadata": {},
   "source": [
    "### 課題"
   ]
  },
  {
   "cell_type": "code",
   "execution_count": 11,
   "id": "3ad22889-42e5-4638-b822-c18be001db9a",
   "metadata": {},
   "outputs": [],
   "source": [
    "# ニューラルネットワークスクラッチ\n",
    "class ScratchSimpleNeuralNetrowkClassifier:\n",
    "\n",
    "    def __init__(self, features=784, nodes1=400, nodes2=200, n_output=10, sigma=0.01, activate=\"tanh\", verbose=False):\n",
    "        self.n_features = features\n",
    "        self.n_nodes1 = nodes1\n",
    "        self.n_nodes2 = nodes2\n",
    "        self.n_output = n_output\n",
    "        self.sigma = sigma\n",
    "        self.act = activate\n",
    "        self.verbose = verbose\n",
    "        self._init_weight()\n",
    "\n",
    "    def _init_weight(self):\n",
    "        self.W1 = np.random.normal(size=(self.n_features, self.n_nodes1), scale=self.sigma)\n",
    "        self.b1 = np.zeros(self.n_nodes1)\n",
    "        self.W2 = np.random.normal(size=(self.n_nodes1, self.n_nodes2), scale=self.sigma)\n",
    "        self.b2 = np.zeros(self.n_nodes2)\n",
    "        self.W3 = np.random.normal(size=(self.n_nodes2, self.n_output), scale=self.sigma)\n",
    "        self.b3 = np.zeros(self.n_output)\n",
    "\n",
    "    def _activation(self, X):\n",
    "        if self.act == \"sigmoid\":\n",
    "            return 1 / (1 + np.exp(-X))\n",
    "        elif self.act == \"tanh\":\n",
    "            return np.tanh(X)\n",
    "\n",
    "    def _softmax(self, X):\n",
    "        # -max(X) によって発散を抑える\n",
    "        return np.exp(X - np.max(X)) / np.sum(np.exp(X - np.max(X)), axis=1, keepdims=True)\n",
    "\n",
    "    # 交差エントロピー誤差\n",
    "    def _loss_function(self, y, yt):\n",
    "        eps = 1e-8\n",
    "        return -np.mean(yt * np.log(y + eps))\n",
    "\n",
    "    def _gradient_descent(self, X, y, yt, lr):\n",
    "\n",
    "            # 3rd layer\n",
    "            delta_a3 = (y-yt)/ len(y)\n",
    "            delta_b3 = np.sum(delta_a3,axis=0)\n",
    "            delta_W3 = np.dot(self.z2.T,delta_a3)\n",
    "            delta_z2 = np.dot(delta_a3,self.W3.T)\n",
    "        \n",
    "            self.W3 -= lr * delta_W3\n",
    "            self.b3 -= lr * delta_b3\n",
    "        \n",
    "            # 2nd layer\n",
    "            if self.act == 'sigmoid':\n",
    "                delta_a2 = delta_z2*(1-self._activation(self.z2))*self._activation(self.z2)\n",
    "            \n",
    "            elif self.act == 'tanh':\n",
    "                delta_a2 = delta_z2*(1-np.tanh(self.z2)**2)\n",
    "\n",
    "            delta_b2 = np.sum(delta_a2,axis=0)\n",
    "            delta_W2 = np.dot(self.z1.T,delta_a2)\n",
    "            delta_z1 = np.dot(delta_a2,self.W2.T)\n",
    "\n",
    "            self.W2 -= lr * delta_W2\n",
    "            self.b2 -= lr * delta_b2\n",
    "\n",
    "            # 1st layer\n",
    "            if self.act == 'sigmoid':\n",
    "                delta_a1 = delta_z1*(1-self._activation(self.z1))*self._activation(self.z1)\n",
    "            \n",
    "            elif self.act == 'tanh':\n",
    "                delta_a1 = delta_z1*(1-np.tanh(self.z1)**2)\n",
    "                \n",
    "            delta_b1 = np.sum(delta_a1,axis=0)\n",
    "            delta_W1 = np.dot(X.T,delta_a1)\n",
    "        \n",
    "            self.W1 -= lr * delta_W1\n",
    "            self.b1 -= lr * delta_b1\n",
    "\n",
    "    def fit(self, X, y, X_val=None, y_val=None, n_epoch=50, n_batch=20, lr=0.01):\n",
    "        # 重みの初期化\n",
    "        self._init_weight()\n",
    "        # 各エポックの loss を記録するリスト\n",
    "        self.log_loss = []\n",
    "        self.log_loss_val = []\n",
    "        # エポックごとの指標値を評価する: 精度\n",
    "        self.log_acc = []\n",
    "        self.log_acc_val = []\n",
    "        \n",
    "        for epoch in range(n_epoch):\n",
    "            # ミニバッチ処理\n",
    "            get_mini_batch = GetMiniBatch(X, y, batch_size=n_batch)\n",
    "            \n",
    "            self.loss = 0\n",
    "            self.true_y = np.array([])\n",
    "            self.pred_y = np.array([])\n",
    "            \n",
    "            for mini_X_train, mini_y_train in get_mini_batch:\n",
    "                # forward\n",
    "                self.z1 = self._activation(np.dot(mini_X_train, self.W1) + self.b1)\n",
    "                self.z2 = self._activation(np.dot(self.z1, self.W2) + self.b2)\n",
    "                y_hat = self._softmax(np.dot(self.z2, self.W3) + self.b3)\n",
    "                # バックプロパゲーション（確率的勾配降下法）\n",
    "                self._gradient_descent(mini_X_train, y_hat, mini_y_train, lr)\n",
    "                # ミニバッチ データの正しい値と推定値を記録する\n",
    "                self.true_y = np.concatenate([self.true_y, np.argmax(mini_y_train, axis=1)])\n",
    "                self.pred_y = np.concatenate([self.pred_y, np.argmax(y_hat, axis=1)])\n",
    "                # 損失関数\n",
    "                self.loss += self._loss_function(y_hat, mini_y_train)\n",
    "\n",
    "            # 各エポックの損失関数を記録する\n",
    "            self.log_loss.append(self.loss / len(get_mini_batch))\n",
    "            # 精度\n",
    "            acc = accuracy_score(self.true_y, self.pred_y)\n",
    "            self.log_acc.append(acc)\n",
    "            \n",
    "            # 検証データが入力されたら計算する\n",
    "            if X_val is not None:\n",
    "                # forward\n",
    "                self.z1_val = self._activation(np.dot(X_val, self.W1) + self.b1)\n",
    "                self.z2_val = self._activation(np.dot(self.z1_val, self.W2) + self.b2)\n",
    "                y_hat_val = self._softmax(np.dot(self.z2_val, self.W3) + self.b3)\n",
    "                # 損失関数\n",
    "                self.loss_val = self._loss_function(y_hat_val, y_val)\n",
    "                self.log_loss_val.append(self.loss_val)\n",
    "                # 精度\n",
    "                acc_val = accuracy_score(np.argmax(y_val, axis=1), np.argmax(y_hat_val, axis=1))\n",
    "                self.log_acc_val.append(acc_val)\n",
    "\n",
    "            # verbose を true に設定すると、学習過程などを出力する\n",
    "            if self.verbose:\n",
    "                print(f\"epoch:{epoch:>3} loss:{(self.loss / n_batch):>8,.3f} acc:{acc:>5,.3f}\")\n",
    "\n",
    "    def predict(self, X):\n",
    "        self.pred_z1 = self._activation(np.dot(X, self.W1) + self.b1)\n",
    "        self.pred_z2 = self._activation(np.dot(self.pred_z1, self.W2) + self.b2)\n",
    "        return np.argmax(np.dot(self.pred_z2, self.W3) + self.b3, axis=1)"
   ]
  },
  {
   "cell_type": "markdown",
   "id": "735bfaee-81b5-4122-9cf8-a53e55086c33",
   "metadata": {},
   "source": [
    "### 学習させる"
   ]
  },
  {
   "cell_type": "code",
   "execution_count": 12,
   "id": "eecf03d2-5b9d-4660-8a83-23146c9f26ea",
   "metadata": {},
   "outputs": [
    {
     "name": "stdout",
     "output_type": "stream",
     "text": [
      "epoch:  0 loss:  19.442 acc:0.493\n",
      "epoch:  1 loss:   6.221 acc:0.847\n",
      "epoch:  2 loss:   4.572 acc:0.891\n",
      "epoch:  3 loss:   4.024 acc:0.904\n",
      "epoch:  4 loss:   3.687 acc:0.911\n",
      "epoch:  5 loss:   3.430 acc:0.917\n",
      "epoch:  6 loss:   3.227 acc:0.922\n",
      "epoch:  7 loss:   3.059 acc:0.926\n",
      "epoch:  8 loss:   2.911 acc:0.930\n",
      "epoch:  9 loss:   2.773 acc:0.933\n",
      "epoch: 10 loss:   2.641 acc:0.936\n",
      "epoch: 11 loss:   2.511 acc:0.940\n",
      "epoch: 12 loss:   2.383 acc:0.943\n",
      "epoch: 13 loss:   2.258 acc:0.946\n",
      "epoch: 14 loss:   2.139 acc:0.949\n",
      "epoch: 15 loss:   2.026 acc:0.952\n",
      "epoch: 16 loss:   1.920 acc:0.954\n",
      "epoch: 17 loss:   1.821 acc:0.957\n",
      "epoch: 18 loss:   1.730 acc:0.959\n",
      "epoch: 19 loss:   1.645 acc:0.961\n",
      "epoch: 20 loss:   1.567 acc:0.963\n",
      "epoch: 21 loss:   1.493 acc:0.965\n",
      "epoch: 22 loss:   1.425 acc:0.966\n",
      "epoch: 23 loss:   1.361 acc:0.967\n",
      "epoch: 24 loss:   1.300 acc:0.969\n",
      "epoch: 25 loss:   1.244 acc:0.970\n",
      "epoch: 26 loss:   1.191 acc:0.971\n",
      "epoch: 27 loss:   1.140 acc:0.972\n",
      "epoch: 28 loss:   1.093 acc:0.974\n",
      "epoch: 29 loss:   1.048 acc:0.975\n"
     ]
    }
   ],
   "source": [
    "clf = ScratchSimpleNeuralNetrowkClassifier(features=784,\n",
    "                                           nodes1=400, nodes2=200, n_output=10,\n",
    "                                           sigma=0.01,\n",
    "                                           activate='tanh',\n",
    "                                           verbose = True)\n",
    "clf.fit(X_train, y_train_one_hot, X_valid, y_valid_one_hot, n_epoch=30, n_batch=20, lr=0.01)"
   ]
  },
  {
   "cell_type": "code",
   "execution_count": 13,
   "id": "d4b80e1e-b2f8-4b13-975b-8b766932f8bf",
   "metadata": {},
   "outputs": [
    {
     "name": "stdout",
     "output_type": "stream",
     "text": [
      "accuracy:0.960\n"
     ]
    }
   ],
   "source": [
    "y_pred = clf.predict(X_valid)\n",
    "accuracy = accuracy_score(y_valid, y_pred)\n",
    "print('accuracy:{:.3f}'.format(accuracy))"
   ]
  },
  {
   "cell_type": "markdown",
   "id": "52c38fab-7113-42ce-a23a-c1916b84e773",
   "metadata": {},
   "source": [
    "### 学習曲線のプロット"
   ]
  },
  {
   "cell_type": "code",
   "execution_count": 14,
   "id": "eab0807a-ca24-4d7b-bdad-6c80421ff15b",
   "metadata": {},
   "outputs": [
    {
     "data": {
      "image/png": "[encoded data removed]",
      "text/plain": [
       "<Figure size 900x600 with 1 Axes>"
      ]
     },
     "metadata": {},
     "output_type": "display_data"
    }
   ],
   "source": [
    "plt.figure(figsize=(9, 6))\n",
    "plt.plot(clf.log_loss, label=\"train\")\n",
    "plt.plot(clf.log_loss_val, label=\"val\")\n",
    "plt.xlabel(\"epoch\")\n",
    "plt.ylabel(\"error\")\n",
    "plt.show()"
   ]
  },
  {
   "cell_type": "markdown",
   "id": "c9fb25f9-ed21-4671-99f3-30b0ce7fa304",
   "metadata": {},
   "source": [
    "汎化性能が特には悪化していないので、過学習はしていない"
   ]
  },
  {
   "cell_type": "code",
   "execution_count": null,
   "id": "885bdeab-552e-4ee8-9c92-1338ad2be0ba",
   "metadata": {},
   "outputs": [],
   "source": []
  }
 ],
 "metadata": {
  "kernelspec": {
   "display_name": "Python 3 (ipykernel)",
   "language": "python",
   "name": "python3"
  },
  "language_info": {
   "codemirror_mode": {
    "name": "ipython",
    "version": 3
   },
   "file_extension": ".py",
   "mimetype": "text/x-python",
   "name": "python",
   "nbconvert_exporter": "python",
   "pygments_lexer": "ipython3",
   "version": "3.7.13"
  }
 },
 "nbformat": 4,
 "nbformat_minor": 5
}
